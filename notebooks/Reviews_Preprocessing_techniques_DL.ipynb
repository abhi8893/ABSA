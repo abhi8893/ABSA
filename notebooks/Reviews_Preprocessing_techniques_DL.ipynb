{
 "cells": [
  {
   "cell_type": "markdown",
   "metadata": {},
   "source": [
    "# Preprocessing data for deep learning models"
   ]
  },
  {
   "cell_type": "markdown",
   "metadata": {},
   "source": [
    "## Convert file to a suited format\n",
    "\n",
    "Each review text is divided into three lines\n",
    "\n",
    "- 1st line has aspect term replaced by a placeholder token \n",
    "- 2nd line has the actual aspect term\n",
    "- 3rd line has the polarity (1, -1, 0)\n",
    "\n",
    "Finally each review text is separated by an additional newline. "
   ]
  },
  {
   "cell_type": "code",
   "execution_count": 1,
   "metadata": {},
   "outputs": [],
   "source": [
    "def prepare_dl_input_file(raw_file, out_file):\n",
    "    pass"
   ]
  },
  {
   "cell_type": "code",
   "execution_count": 2,
   "metadata": {},
   "outputs": [],
   "source": [
    "def read_dl_input_file(domain, subset, year='2014'):\n",
    "        \n",
    "    fname =f\"../data/processed/SemEval{year}/{domain}_{subset}_dl.txt\"\n",
    "    with open(fname, 'r', encoding='utf-8', newline='\\n', errors='ignore') as f:\n",
    "        lines = f.readlines()\n",
    "        \n",
    "    return lines"
   ]
  },
  {
   "cell_type": "markdown",
   "metadata": {},
   "source": [
    "## Create an embedding matrix "
   ]
  },
  {
   "cell_type": "code",
   "execution_count": 3,
   "metadata": {},
   "outputs": [],
   "source": [
    "def create_word_vec(word2idx, embed_dim):\n",
    "    \n",
    "    emb_file = f'../data/embeddings/glove.6B.{embed_dim}d.txt'\n",
    "\n",
    "    n = len(word2idx)\n",
    "    w2v = {}\n",
    "    \n",
    "    with open(emb_file, 'r') as f:\n",
    "        for line in f:\n",
    "            values = line.split()\n",
    "            word = values[0]\n",
    "            if word in word2idx:\n",
    "                w2v[word] = np.asarray(values[1:], dtype='float32')\n",
    "                                \n",
    "    return w2v"
   ]
  },
  {
   "cell_type": "code",
   "execution_count": 4,
   "metadata": {},
   "outputs": [],
   "source": [
    "def create_embedding_matrix(word2idx, embed_dim):\n",
    "    \n",
    "    emb_file = f'../data/embeddings/glove.6B.{embed_dim}d.txt'\n",
    "\n",
    "    n = len(word2idx)\n",
    "    embedding_matrix = np.zeros((n + 1, embed_dim))\n",
    "    \n",
    "    with open(emb_file, 'r') as f:\n",
    "        for line in f:\n",
    "            values = line.split()\n",
    "            word = values[0]\n",
    "            if word in word2idx:\n",
    "                idx = word2idx[word]\n",
    "                embedding_matrix[idx] = np.asarray(values[1:], dtype='float32')\n",
    "                                \n",
    "    return embedding_matrix"
   ]
  },
  {
   "cell_type": "markdown",
   "metadata": {},
   "source": [
    "## Preprocessing functions"
   ]
  },
  {
   "cell_type": "code",
   "execution_count": 5,
   "metadata": {},
   "outputs": [
    {
     "name": "stderr",
     "output_type": "stream",
     "text": [
      "/home/abhi/miniconda3/envs/absa/lib/python3.6/site-packages/tensorflow/python/framework/dtypes.py:523: FutureWarning: Passing (type, 1) or '1type' as a synonym of type is deprecated; in a future version of numpy, it will be understood as (type, (1,)) / '(1,)type'.\n",
      "  _np_qint8 = np.dtype([(\"qint8\", np.int8, 1)])\n",
      "/home/abhi/miniconda3/envs/absa/lib/python3.6/site-packages/tensorflow/python/framework/dtypes.py:524: FutureWarning: Passing (type, 1) or '1type' as a synonym of type is deprecated; in a future version of numpy, it will be understood as (type, (1,)) / '(1,)type'.\n",
      "  _np_quint8 = np.dtype([(\"quint8\", np.uint8, 1)])\n",
      "/home/abhi/miniconda3/envs/absa/lib/python3.6/site-packages/tensorflow/python/framework/dtypes.py:525: FutureWarning: Passing (type, 1) or '1type' as a synonym of type is deprecated; in a future version of numpy, it will be understood as (type, (1,)) / '(1,)type'.\n",
      "  _np_qint16 = np.dtype([(\"qint16\", np.int16, 1)])\n",
      "/home/abhi/miniconda3/envs/absa/lib/python3.6/site-packages/tensorflow/python/framework/dtypes.py:526: FutureWarning: Passing (type, 1) or '1type' as a synonym of type is deprecated; in a future version of numpy, it will be understood as (type, (1,)) / '(1,)type'.\n",
      "  _np_quint16 = np.dtype([(\"quint16\", np.uint16, 1)])\n",
      "/home/abhi/miniconda3/envs/absa/lib/python3.6/site-packages/tensorflow/python/framework/dtypes.py:527: FutureWarning: Passing (type, 1) or '1type' as a synonym of type is deprecated; in a future version of numpy, it will be understood as (type, (1,)) / '(1,)type'.\n",
      "  _np_qint32 = np.dtype([(\"qint32\", np.int32, 1)])\n",
      "/home/abhi/miniconda3/envs/absa/lib/python3.6/site-packages/tensorflow/python/framework/dtypes.py:532: FutureWarning: Passing (type, 1) or '1type' as a synonym of type is deprecated; in a future version of numpy, it will be understood as (type, (1,)) / '(1,)type'.\n",
      "  np_resource = np.dtype([(\"resource\", np.ubyte, 1)])\n",
      "Using Theano backend.\n",
      "WARNING (theano.configdefaults): install mkl with `conda install mkl-service`: No module named 'mkl'\n"
     ]
    }
   ],
   "source": [
    "import os\n",
    "import pickle\n",
    "import numpy as np\n",
    "import tensorflow as tf\n",
    "import keras.backend as K\n",
    "from keras.preprocessing.text import Tokenizer\n",
    "from keras.preprocessing.sequence import pad_sequences\n",
    "from keras.utils import to_categorical"
   ]
  },
  {
   "cell_type": "code",
   "execution_count": 35,
   "metadata": {},
   "outputs": [],
   "source": [
    "import re\n",
    "\n",
    "def decontracted(phrase):\n",
    "\n",
    "    phrase = re.sub(r\"n\\'t\", \" not\", phrase)\n",
    "    phrase = re.sub(r\"\\'re\", \" are\", phrase)\n",
    "    phrase = re.sub(r\"\\'s\", \" is\", phrase)\n",
    "    phrase = re.sub(r\"\\'d\", \" would\", phrase)\n",
    "    phrase = re.sub(r\"\\'ll\", \" will\", phrase)\n",
    "    phrase = re.sub(r\"\\'t\", \" not\", phrase)\n",
    "    phrase = re.sub(r\"\\'ve\", \" have\", phrase)\n",
    "    phrase = re.sub(r\"\\'m\", \" am\", phrase)\n",
    "    return phrase\n"
   ]
  },
  {
   "cell_type": "code",
   "execution_count": 36,
   "metadata": {},
   "outputs": [],
   "source": [
    "def split_reviews_by_aspects(dl_input_lines: list):\n",
    "    \n",
    "    reviews_raw = []\n",
    "    reviews_raw_without_aspects = []\n",
    "    reviews_left = []\n",
    "    reviews_left_with_aspects = []\n",
    "    reviews_right = []\n",
    "    reviews_right_with_aspects = []\n",
    "    aspects = []\n",
    "    polarities = []\n",
    "\n",
    "    for i in range(0, len(dl_input_lines), 3):\n",
    "        review = decontracted(dl_input_lines[i])\n",
    "        review_left, _, review_right = [s.lower().strip() for s in review.partition(\"$T$\")]\n",
    "        aspect = dl_input_lines[i+1].lower().strip()\n",
    "        polarity = dl_input_lines[i+2].strip()\n",
    "\n",
    "        review_raw = ' '.join([review_left, aspect, review_right])\n",
    "\n",
    "        reviews_raw.append(review_raw)\n",
    "        reviews_raw_without_aspects.append(review_left + \" \" + review_right)\n",
    "        reviews_left.append(review_left)\n",
    "        reviews_left_with_aspects.append(review_left + \" \" + aspect)\n",
    "        reviews_right.append(review_right)\n",
    "        reviews_right_with_aspects.append(aspect + \" \" + review_right)\n",
    "        aspects.append(aspect)\n",
    "        polarities.append(int(polarity))\n",
    "        \n",
    "        \n",
    "    res = {\n",
    "        'reviews_raw': reviews_raw,\n",
    "        'reviews_raw_without_aspects': reviews_raw_without_aspects,\n",
    "        'reviews_left': reviews_left,\n",
    "        'reviews_left_with_aspects': reviews_left_with_aspects,\n",
    "        'reviews_right': reviews_right,\n",
    "        'reviews_right_with_aspects': reviews_right_with_aspects,\n",
    "        'aspects': aspects,\n",
    "        'polarities': polarities\n",
    "    }\n",
    "        \n",
    "        \n",
    "    return res"
   ]
  },
  {
   "cell_type": "code",
   "execution_count": 37,
   "metadata": {},
   "outputs": [],
   "source": [
    "def create_sequence_data(texts, maxlen, tokenizer):\n",
    "    return pad_sequences(tokenizer.texts_to_sequences(texts), maxlen, padding='post', truncating='post')"
   ]
  },
  {
   "cell_type": "code",
   "execution_count": 38,
   "metadata": {},
   "outputs": [],
   "source": [
    "def prepare_data_for_dl(domain='restaurants', subset='train', embed_dim=50, \n",
    "                        max_input_len=70, max_aspect_len=5, num_classes=3, tokenizer=None):\n",
    "    \n",
    "    \n",
    "    # Read the lines from the pre-formatted dl input file\n",
    "    lines = read_dl_input_file(domain, subset)\n",
    "    \n",
    "    # now obtain the splitted reviews on the left and right side of the aspect\n",
    "    spltd = split_reviews_by_aspects(lines)\n",
    "    polarities = spltd.pop('polarities')\n",
    "    \n",
    "    # Tokenize \n",
    "    if subset == 'test':\n",
    "        if tokenizer is None:\n",
    "            raise ValueError('Provide a tokenizer fitted on the train data!')\n",
    "        if max_input_len is None:\n",
    "            raise ValueError('Provide a maximum input length for padding the input sequence!')\n",
    "        if max_aspect_len is None:\n",
    "            raise ValueError('Provide a maximum aspect length for padding the aspect terms!')\n",
    "            \n",
    "    elif subset == 'train':\n",
    "        tokenizer = Tokenizer(lower=False)\n",
    "        tokenizer.fit_on_texts(spltd['reviews_raw'])\n",
    "        \n",
    "        \n",
    "    word2idx = tokenizer.word_index\n",
    "    \n",
    "    # Create sequence padded data of indices\n",
    "    res = {}\n",
    "    \n",
    "    for k, v in spltd.items():\n",
    "        if k == 'aspects':\n",
    "            maxlen = max_aspect_len\n",
    "        else:\n",
    "            maxlen = max_input_len\n",
    "            \n",
    "        res[f'{k}_idx'] = create_sequence_data(v, maxlen, tokenizer)\n",
    "        \n",
    "    # one hot encode polarities\n",
    "    res['polarity_ohe'] = to_categorical(polarities, num_classes)     \n",
    "        \n",
    "    if subset == 'test':\n",
    "        return res\n",
    "\n",
    "    res['embedding_matrix'] = create_embedding_matrix(word2idx, embed_dim)\n",
    "    res['tokenizer'] = tokenizer\n",
    "\n",
    "\n",
    "    return res"
   ]
  }
 ],
 "metadata": {
  "kernelspec": {
   "display_name": "Python 3",
   "language": "python",
   "name": "python3"
  },
  "language_info": {
   "codemirror_mode": {
    "name": "ipython",
    "version": 3
   },
   "file_extension": ".py",
   "mimetype": "text/x-python",
   "name": "python",
   "nbconvert_exporter": "python",
   "pygments_lexer": "ipython3",
   "version": "3.6.10"
  }
 },
 "nbformat": 4,
 "nbformat_minor": 4
}
