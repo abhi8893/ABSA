{
 "cells": [
  {
   "cell_type": "markdown",
   "metadata": {
    "ExecuteTime": {
     "end_time": "2020-07-01T08:20:39.497149Z",
     "start_time": "2020-07-01T08:20:39.485097Z"
    },
    "colab_type": "text",
    "id": "Fw8Y-ELHmC8y"
   },
   "source": [
    "- [ASPECT BASED SENTIMENT ANALYSIS\n",
    "USING ATTENTION MECHANISM AND GATED\n",
    "RECURRENT NETWORK](http://www.ijstr.org/final-print/mar2020/Aspect-Based-Sentiment-Analysis-Using-Attention-Mechanism-And-Gated-Recurrent-Network.pdf)\n",
    "- [Recurrent Attention Network on Memory for Aspect Sentiment Analysis](https://www.cs.cmu.edu/~lbing/pub/emnlp17_aspect_sentiment.pdf)"
   ]
  },
  {
   "cell_type": "code",
   "execution_count": 40,
   "metadata": {
    "colab": {
     "base_uri": "https://localhost:8080/",
     "height": 122
    },
    "colab_type": "code",
    "executionInfo": {
     "elapsed": 142730,
     "status": "ok",
     "timestamp": 1593751227300,
     "user": {
      "displayName": "Abhishek Bhatia",
      "photoUrl": "",
      "userId": "05636063588651340588"
     },
     "user_tz": -330
    },
    "id": "OrN6QH1-mN_1",
    "outputId": "fefb36fc-1923-41e5-9fd1-4b813e16a414"
   },
   "outputs": [],
   "source": [
    "# from google.colab import drive \n",
    "# drive.mount('/content/gdrive')"
   ]
  },
  {
   "cell_type": "code",
   "execution_count": 2,
   "metadata": {
    "colab": {
     "base_uri": "https://localhost:8080/",
     "height": 34
    },
    "colab_type": "code",
    "executionInfo": {
     "elapsed": 1233,
     "status": "ok",
     "timestamp": 1593751266680,
     "user": {
      "displayName": "Abhishek Bhatia",
      "photoUrl": "",
      "userId": "05636063588651340588"
     },
     "user_tz": -330
    },
    "id": "4WwNrv-z9xjQ",
    "outputId": "8ddd2413-d425-4e59-90b8-4af9d60061c6"
   },
   "outputs": [
    {
     "name": "stdout",
     "output_type": "stream",
     "text": [
      "/content/gdrive/My Drive/ABSA-Project/aspect-based-sentiment-analysis/notebooks\n"
     ]
    }
   ],
   "source": [
    "# %cd /content/gdrive/My Drive/ABSA-Project/aspect-based-sentiment-analysis/notebooks"
   ]
  },
  {
   "cell_type": "code",
   "execution_count": 1,
   "metadata": {},
   "outputs": [],
   "source": [
    "import os \n",
    "os.environ['KERAS_BACKEND'] = 'tensorflow'"
   ]
  },
  {
   "cell_type": "code",
   "execution_count": 2,
   "metadata": {
    "colab": {
     "base_uri": "https://localhost:8080/",
     "height": 34
    },
    "colab_type": "code",
    "executionInfo": {
     "elapsed": 3954,
     "status": "ok",
     "timestamp": 1593751390626,
     "user": {
      "displayName": "Abhishek Bhatia",
      "photoUrl": "",
      "userId": "05636063588651340588"
     },
     "user_tz": -330
    },
    "id": "mOXXjSdb-90_",
    "outputId": "8c4cf130-dc23-483d-eb3d-25d10e40df75"
   },
   "outputs": [
    {
     "name": "stderr",
     "output_type": "stream",
     "text": [
      "Using TensorFlow backend.\n",
      "/home/abhi/miniconda3/envs/absa/lib/python3.6/site-packages/tensorflow/python/framework/dtypes.py:523: FutureWarning: Passing (type, 1) or '1type' as a synonym of type is deprecated; in a future version of numpy, it will be understood as (type, (1,)) / '(1,)type'.\n",
      "  _np_qint8 = np.dtype([(\"qint8\", np.int8, 1)])\n",
      "/home/abhi/miniconda3/envs/absa/lib/python3.6/site-packages/tensorflow/python/framework/dtypes.py:524: FutureWarning: Passing (type, 1) or '1type' as a synonym of type is deprecated; in a future version of numpy, it will be understood as (type, (1,)) / '(1,)type'.\n",
      "  _np_quint8 = np.dtype([(\"quint8\", np.uint8, 1)])\n",
      "/home/abhi/miniconda3/envs/absa/lib/python3.6/site-packages/tensorflow/python/framework/dtypes.py:525: FutureWarning: Passing (type, 1) or '1type' as a synonym of type is deprecated; in a future version of numpy, it will be understood as (type, (1,)) / '(1,)type'.\n",
      "  _np_qint16 = np.dtype([(\"qint16\", np.int16, 1)])\n",
      "/home/abhi/miniconda3/envs/absa/lib/python3.6/site-packages/tensorflow/python/framework/dtypes.py:526: FutureWarning: Passing (type, 1) or '1type' as a synonym of type is deprecated; in a future version of numpy, it will be understood as (type, (1,)) / '(1,)type'.\n",
      "  _np_quint16 = np.dtype([(\"quint16\", np.uint16, 1)])\n",
      "/home/abhi/miniconda3/envs/absa/lib/python3.6/site-packages/tensorflow/python/framework/dtypes.py:527: FutureWarning: Passing (type, 1) or '1type' as a synonym of type is deprecated; in a future version of numpy, it will be understood as (type, (1,)) / '(1,)type'.\n",
      "  _np_qint32 = np.dtype([(\"qint32\", np.int32, 1)])\n",
      "/home/abhi/miniconda3/envs/absa/lib/python3.6/site-packages/tensorflow/python/framework/dtypes.py:532: FutureWarning: Passing (type, 1) or '1type' as a synonym of type is deprecated; in a future version of numpy, it will be understood as (type, (1,)) / '(1,)type'.\n",
      "  np_resource = np.dtype([(\"resource\", np.ubyte, 1)])\n"
     ]
    }
   ],
   "source": [
    "import numpy as np\n",
    "import pandas as pd\n",
    "from sklearn.model_selection import train_test_split\n",
    "from keras.preprocessing.sequence import pad_sequences\n",
    "from keras.preprocessing.text import Tokenizer\n",
    "from keras.models import Sequential, load_model, save_model\n",
    "from keras.layers import Dense, Embedding, LSTM, SpatialDropout1D\n",
    "from keras.utils.np_utils import to_categorical\n",
    "from os import listdir, path\n",
    "\n",
    "\n",
    "from utils import load_raw_file, preprocess"
   ]
  },
  {
   "cell_type": "code",
   "execution_count": 10,
   "metadata": {},
   "outputs": [],
   "source": [
    "polarity_label = {\n",
    "    'positive': 1,\n",
    "    'negative': -1,\n",
    "    'neutral': 0\n",
    "}"
   ]
  },
  {
   "cell_type": "code",
   "execution_count": 14,
   "metadata": {
    "colab": {
     "base_uri": "https://localhost:8080/",
     "height": 204
    },
    "colab_type": "code",
    "executionInfo": {
     "elapsed": 2346,
     "status": "ok",
     "timestamp": 1593754998891,
     "user": {
      "displayName": "Abhishek Bhatia",
      "photoUrl": "",
      "userId": "05636063588651340588"
     },
     "user_tz": -330
    },
    "id": "3fUfrfTtAfzd",
    "outputId": "14f90f1b-43ec-4ec4-97bd-763b2da5630f"
   },
   "outputs": [],
   "source": [
    "df = load_raw_file('restaurants', 'train')\n",
    "df = preprocess(df)\n",
    "df['polarity'] = df['polarity'].map(polarity_label)"
   ]
  },
  {
   "cell_type": "code",
   "execution_count": 15,
   "metadata": {
    "colab": {},
    "colab_type": "code",
    "executionInfo": {
     "elapsed": 1322,
     "status": "ok",
     "timestamp": 1593752252759,
     "user": {
      "displayName": "Abhishek Bhatia",
      "photoUrl": "",
      "userId": "05636063588651340588"
     },
     "user_tz": -330
    },
    "id": "8ebkT3nYA_yE"
   },
   "outputs": [],
   "source": [
    "from keras.preprocessing.text import Tokenizer\n",
    "from keras.preprocessing.sequence import pad_sequences\n",
    "from keras.utils.np_utils import to_categorical\n",
    "from utils import custom_f1"
   ]
  },
  {
   "cell_type": "code",
   "execution_count": 17,
   "metadata": {
    "colab": {},
    "colab_type": "code",
    "executionInfo": {
     "elapsed": 1238,
     "status": "ok",
     "timestamp": 1593752024870,
     "user": {
      "displayName": "Abhishek Bhatia",
      "photoUrl": "",
      "userId": "05636063588651340588"
     },
     "user_tz": -330
    },
    "id": "9ltXkOTC_Nof"
   },
   "outputs": [],
   "source": [
    "max_features = 2000"
   ]
  },
  {
   "cell_type": "code",
   "execution_count": 19,
   "metadata": {
    "colab": {
     "base_uri": "https://localhost:8080/",
     "height": 34
    },
    "colab_type": "code",
    "executionInfo": {
     "elapsed": 1415,
     "status": "ok",
     "timestamp": 1593752384148,
     "user": {
      "displayName": "Abhishek Bhatia",
      "photoUrl": "",
      "userId": "05636063588651340588"
     },
     "user_tz": -330
    },
    "id": "LIlFFrDyBNlO",
    "outputId": "f0b6b810-18a4-4544-8b48-a6470288e0db"
   },
   "outputs": [
    {
     "name": "stdout",
     "output_type": "stream",
     "text": [
      "(3602, 28) (3602, 3)\n"
     ]
    }
   ],
   "source": [
    "tokenizer = Tokenizer(num_words=max_features, split=' ')\n",
    "tokenizer.fit_on_texts(df['without_aspect'].values.astype('U'))\n",
    "X_train = pad_sequences(tokenizer.texts_to_sequences(df['without_aspect'].values.astype('U')))\n",
    "y_train = to_categorical(df['polarity'], num_classes=3)\n",
    "\n",
    "print(X_train.shape, y_train.shape)"
   ]
  },
  {
   "cell_type": "code",
   "execution_count": 20,
   "metadata": {
    "colab": {},
    "colab_type": "code",
    "executionInfo": {
     "elapsed": 1280,
     "status": "ok",
     "timestamp": 1593754498796,
     "user": {
      "displayName": "Abhishek Bhatia",
      "photoUrl": "",
      "userId": "05636063588651340588"
     },
     "user_tz": -330
    },
    "id": "iG_0ri_3C7hS"
   },
   "outputs": [],
   "source": [
    "from keras.models import Sequential\n",
    "from keras.layers import Embedding, LSTM, Dense, SpatialDropout1D, Bidirectional"
   ]
  },
  {
   "cell_type": "code",
   "execution_count": 21,
   "metadata": {
    "colab": {},
    "colab_type": "code",
    "executionInfo": {
     "elapsed": 1281,
     "status": "ok",
     "timestamp": 1593753236322,
     "user": {
      "displayName": "Abhishek Bhatia",
      "photoUrl": "",
      "userId": "05636063588651340588"
     },
     "user_tz": -330
    },
    "id": "OenjZgs9DQmS"
   },
   "outputs": [],
   "source": [
    "embed_dim = 128\n",
    "lstm_out = 196\n",
    "padded_length = X_train.shape[1]"
   ]
  },
  {
   "cell_type": "code",
   "execution_count": 22,
   "metadata": {
    "colab": {},
    "colab_type": "code",
    "executionInfo": {
     "elapsed": 1842,
     "status": "ok",
     "timestamp": 1593756879828,
     "user": {
      "displayName": "Abhishek Bhatia",
      "photoUrl": "",
      "userId": "05636063588651340588"
     },
     "user_tz": -330
    },
    "id": "QCN6R6Sn_GCX"
   },
   "outputs": [],
   "source": [
    "model = Sequential()\n",
    "model.add(Embedding(max_features, embed_dim, input_length=padded_length))\n",
    "model.add(SpatialDropout1D(0.3))\n",
    "model.add(Bidirectional(LSTM(lstm_out, dropout=0.2, recurrent_dropout=0.2)))\n",
    "model.add(Dense(3, activation='softmax'))\n",
    "model.compile(loss='categorical_crossentropy', optimizer='adam', metrics=[custom_f1, 'accuracy'])"
   ]
  },
  {
   "cell_type": "code",
   "execution_count": 23,
   "metadata": {
    "colab": {
     "base_uri": "https://localhost:8080/",
     "height": 289
    },
    "colab_type": "code",
    "executionInfo": {
     "elapsed": 827,
     "status": "ok",
     "timestamp": 1593756881466,
     "user": {
      "displayName": "Abhishek Bhatia",
      "photoUrl": "",
      "userId": "05636063588651340588"
     },
     "user_tz": -330
    },
    "id": "iS_TnQ7VEHu2",
    "outputId": "1404cf64-d182-495e-ec79-22a0c62a5185"
   },
   "outputs": [
    {
     "name": "stdout",
     "output_type": "stream",
     "text": [
      "_________________________________________________________________\n",
      "Layer (type)                 Output Shape              Param #   \n",
      "=================================================================\n",
      "embedding_1 (Embedding)      (None, 28, 128)           256000    \n",
      "_________________________________________________________________\n",
      "spatial_dropout1d_1 (Spatial (None, 28, 128)           0         \n",
      "_________________________________________________________________\n",
      "bidirectional_1 (Bidirection (None, 392)               509600    \n",
      "_________________________________________________________________\n",
      "dense_1 (Dense)              (None, 3)                 1179      \n",
      "=================================================================\n",
      "Total params: 766,779\n",
      "Trainable params: 766,779\n",
      "Non-trainable params: 0\n",
      "_________________________________________________________________\n"
     ]
    }
   ],
   "source": [
    "model.summary()"
   ]
  },
  {
   "cell_type": "code",
   "execution_count": null,
   "metadata": {},
   "outputs": [],
   "source": [
    "tokenizer.texts_to_sequences(df['without_aspect'])"
   ]
  },
  {
   "cell_type": "code",
   "execution_count": 36,
   "metadata": {},
   "outputs": [],
   "source": [
    "df_test = load_raw_file('restaurants', 'test')\n",
    "df_test = preprocess(df_test)\n",
    "df_test['polarity'] = df_test['polarity'].map(polarity_label)\n",
    "\n",
    "X_test = pad_sequences(tokenizer.texts_to_sequences(df_test['without_aspect'].values.astype('U')), \n",
    "                        maxlen=padded_length)\n",
    "y_test = to_categorical(df_test['polarity'], num_classes=3)"
   ]
  },
  {
   "cell_type": "code",
   "execution_count": 39,
   "metadata": {
    "colab": {
     "base_uri": "https://localhost:8080/",
     "height": 289
    },
    "colab_type": "code",
    "executionInfo": {
     "elapsed": 42296,
     "status": "ok",
     "timestamp": 1593756926338,
     "user": {
      "displayName": "Abhishek Bhatia",
      "photoUrl": "",
      "userId": "05636063588651340588"
     },
     "user_tz": -330
    },
    "id": "242LcIi9FCNk",
    "outputId": "b66d0704-f552-4d14-b991-032225967dd6"
   },
   "outputs": [
    {
     "name": "stdout",
     "output_type": "stream",
     "text": [
      "Train on 3602 samples, validate on 1120 samples\n",
      "Epoch 1/5\n",
      "3602/3602 [==============================] - 20s 5ms/step - loss: 0.9085 - custom_f1: 0.5544 - acc: 0.6083 - val_loss: 0.7156 - val_custom_f1: 0.6714 - val_acc: 0.6875\n",
      "Epoch 2/5\n",
      "3602/3602 [==============================] - 18s 5ms/step - loss: 0.6790 - custom_f1: 0.6778 - acc: 0.7146 - val_loss: 0.6951 - val_custom_f1: 0.6841 - val_acc: 0.7018\n",
      "Epoch 3/5\n",
      "3602/3602 [==============================] - 20s 6ms/step - loss: 0.5700 - custom_f1: 0.7571 - acc: 0.7732 - val_loss: 0.7003 - val_custom_f1: 0.6943 - val_acc: 0.7134\n",
      "Epoch 4/5\n",
      "3602/3602 [==============================] - 20s 5ms/step - loss: 0.5069 - custom_f1: 0.7901 - acc: 0.7962 - val_loss: 0.7431 - val_custom_f1: 0.6969 - val_acc: 0.6982\n",
      "Epoch 5/5\n",
      "3602/3602 [==============================] - 19s 5ms/step - loss: 0.4517 - custom_f1: 0.8137 - acc: 0.8184 - val_loss: 0.7771 - val_custom_f1: 0.6860 - val_acc: 0.6955\n",
      "CPU times: user 3min 41s, sys: 26.9 s, total: 4min 8s\n",
      "Wall time: 1min 38s\n"
     ]
    },
    {
     "data": {
      "text/plain": [
       "<keras.callbacks.History at 0x7fcc0f7dbe48>"
      ]
     },
     "execution_count": 39,
     "metadata": {},
     "output_type": "execute_result"
    }
   ],
   "source": [
    "%%time\n",
    "model.fit(X_train, y_train, validation_data=(X_test, y_test), epochs=5)"
   ]
  }
 ],
 "metadata": {
  "colab": {
   "name": "LSTM_Sentiment_Classification.ipynb",
   "provenance": []
  },
  "kernelspec": {
   "display_name": "Python 3",
   "language": "python",
   "name": "python3"
  },
  "language_info": {
   "codemirror_mode": {
    "name": "ipython",
    "version": 3
   },
   "file_extension": ".py",
   "mimetype": "text/x-python",
   "name": "python",
   "nbconvert_exporter": "python",
   "pygments_lexer": "ipython3",
   "version": "3.6.10"
  }
 },
 "nbformat": 4,
 "nbformat_minor": 1
}
